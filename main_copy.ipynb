{
 "cells": [
  {
   "cell_type": "code",
   "execution_count": 6,
   "metadata": {},
   "outputs": [],
   "source": [
    "from youtube_transcript_api import YouTubeTranscriptApi\n",
    "from youtube_transcript_api.formatters import TextFormatter\n",
    "from transformers import BartForConditionalGeneration, BartTokenizer\n",
    "from sumy.parsers.plaintext import PlaintextParser\n",
    "from sumy.nlp.tokenizers import Tokenizer\n",
    "from sumy.summarizers.text_rank import TextRankSummarizer\n",
    "import torch"
   ]
  },
  {
   "cell_type": "code",
   "execution_count": 7,
   "metadata": {},
   "outputs": [],
   "source": [
    "def get_vidid(url):\n",
    "    if \"youtu.be\" in url:\n",
    "        url=url.replace(\"https://youtu.be/\",\"\")\n",
    "        \n",
    "    else:\n",
    "        url=url.replace(\"https://www.youtube.com/watch?v=\", '')\n",
    "        \n",
    "        \n",
    "    return url"
   ]
  },
  {
   "cell_type": "code",
   "execution_count": 8,
   "metadata": {},
   "outputs": [],
   "source": [
    "def vid_transcript(video):\n",
    "    \n",
    "    transcript = YouTubeTranscriptApi.get_transcript(video)\n",
    "    formatter = TextFormatter()\n",
    "    text_formatted = formatter.format_transcript(transcript)\n",
    "    with open('plaintext.txt', 'w', encoding='utf-8') as file:\n",
    "        file.write(text_formatted)"
   ]
  },
  {
   "cell_type": "code",
   "execution_count": 9,
   "metadata": {},
   "outputs": [],
   "source": [
    "def ext_summarizer(path):\n",
    "    \n",
    "    language = \"english\"\n",
    "    word_limit = 1500\n",
    "    \n",
    "    with open(path, \"r\", encoding=\"utf-8\") as file:\n",
    "        text = file.read()\n",
    "        \n",
    "    \n",
    "    summarizer = TextRankSummarizer()\n",
    "    parser = PlaintextParser.from_string(text, Tokenizer(language))\n",
    "    summary = summarizer(parser.document, word_limit)\n",
    "    \n",
    "\n",
    "    #summary = summarize(text, word_count=1000)\n",
    "    summary_text = \" \".join(str(sentence) for sentence in summary)\n",
    "\n",
    "    return summary_text"
   ]
  },
  {
   "cell_type": "code",
   "execution_count": 19,
   "metadata": {},
   "outputs": [],
   "source": [
    "def abs_summarizer(t, max_length,min_length):\n",
    "    \n",
    "    torch_device = 'cuda' if torch.cuda.is_available() else 'cpu '# failing when device is gpu\n",
    "    tokenizer = BartTokenizer.from_pretrained('facebook/bart-large-cnn')\n",
    "    model = BartForConditionalGeneration.from_pretrained('facebook/bart-large-cnn')\n",
    "    \n",
    "    text_input_ids = tokenizer.batch_encode_plus([t], return_tensors='pt', max_length=1024)['input_ids'].to(torch_device)\n",
    "    summary_ids = model.generate(text_input_ids, num_beams=10, max_length=max_length, min_length=min_length)           \n",
    "    summary_txt = tokenizer.decode(summary_ids.squeeze(), skip_special_tokens=True)\n",
    "    return summary_txt\n"
   ]
  },
  {
   "cell_type": "code",
   "execution_count": null,
   "metadata": {},
   "outputs": [],
   "source": [
    "path = \"plaintext.txt\"\n",
    "url = r\"https://youtu.be/tWVWeAqZ0WU\"\n",
    "video = get_vidid(url)\n",
    "vid_transcript(video)\n",
    "temp_summ = ext_summarizer(path)\n",
    "print(temp_summ)\n",
    "summ = abs_summarizer(temp_summ, 100, 512)\n",
    "print(summ)\n"
   ]
  }
 ],
 "metadata": {
  "kernelspec": {
   "display_name": "pytorch_gpu",
   "language": "python",
   "name": "python3"
  },
  "language_info": {
   "codemirror_mode": {
    "name": "ipython",
    "version": 3
   },
   "file_extension": ".py",
   "mimetype": "text/x-python",
   "name": "python",
   "nbconvert_exporter": "python",
   "pygments_lexer": "ipython3",
   "version": "3.10.11"
  },
  "orig_nbformat": 4
 },
 "nbformat": 4,
 "nbformat_minor": 2
}
